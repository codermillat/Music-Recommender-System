{
 "cells": [
  {
   "cell_type": "markdown",
   "metadata": {},
   "source": [
    "# Music Recommender System\n",
    "A comprehensive music recommendation system using collaborative filtering, content-based, and popularity-based approaches."
   ]
  },
  {
   "cell_type": "code",
   "execution_count": null,
   "metadata": {},
   "outputs": [],
   "source": [
    "# Install required packages\n",
    "!pip install numpy pandas scikit-learn scikit-surprise matplotlib seaborn"
   ]
  },
  {
   "cell_type": "code",
   "execution_count": null,
   "metadata": {},
   "outputs": [],
   "source": [
    "import sys\n",
    "sys.path.append('src')\n",
    "\n",
    "import pandas as pd\n",
    "import numpy as np\n",
    "import matplotlib.pyplot as plt\n",
    "import seaborn as sns\n",
    "\n",
    "from data_loader import DataLoader\n",
    "from visualizer import DataVisualizer\n",
    "from recommenders.popularity_based import PopularityRecommender\n",
    "from recommenders.collaborative import CollaborativeRecommender\n",
    "from recommenders.content_based import ContentBasedRecommender\n",
    "\n",
    "# Set style for better visualizations\n",
    "plt.style.use('seaborn')\n",
    "sns.set_palette('husl')"
   ]
  },
  {
   "cell_type": "markdown",
   "metadata": {},
   "source": [
    "## Load and Visualize Data"
   ]
  },
  {
   "cell_type": "code",
   "execution_count": null,
   "metadata": {},
   "outputs": [],
   "source": [
    "try:\n",
    "    # Load data\n",
    "    loader = DataLoader()\n",
    "    df = loader.merge_data()\n",
    "    \n",
    "    # Create visualizations\n",
    "    viz = DataVisualizer()\n",
    "    \n",
    "    # Plot and display top artists\n",
    "    plt.figure(figsize=(12, 6))\n",
    "    top_artists_fig = viz.plot_top_artists(df)\n",
    "    plt.show()\n",
    "    \n",
    "    # Plot and display listening patterns\n",
    "    plt.figure(figsize=(10, 6))\n",
    "    patterns_fig = viz.plot_listening_patterns(df)\n",
    "    plt.show()\n",
    "    \n",
    "    # Display basic statistics\n",
    "    print(\"\\nDataset Statistics:\")\n",
    "    print(f\"Total Users: {df['user_id'].nunique():,}\")\n",
    "    print(f\"Total Songs: {df['song_id'].nunique():,}\")\n",
    "    print(f\"Total Artists: {df['artist_name'].nunique():,}\")\n",
    "    print(f\"Total Interactions: {len(df):,}\")\n",
    "    \n",
    "except Exception as e:\n",
    "    print(f\"Error: {str(e)}\")"
   ]
  },
  {
   "cell_type": "markdown",
   "metadata": {},
   "source": [
    "## 1. Popularity-Based Recommendations"
   ]
  },
  {
   "cell_type": "code",
   "execution_count": null,
   "metadata": {},
   "outputs": [],
   "source": [
    "try:\n",
    "    pop_rec = PopularityRecommender()\n",
    "    pop_rec.fit(df)\n",
    "    popular_songs = pop_rec.recommend()\n",
    "    \n",
    "    print(\"Top 10 Most Popular Songs:\")\n",
    "    display(viz.display_recommendations(popular_songs))\n",
    "    \n",
    "except Exception as e:\n",
    "    print(f\"Error in popularity recommendations: {str(e)}\")"
   ]
  },
  {
   "cell_type": "markdown",
   "metadata": {},
   "source": [
    "## 2. Collaborative Filtering Recommendations"
   ]
  },
  {
   "cell_type": "code",
   "execution_count": null,
   "metadata": {},
   "outputs": [],
   "source": [
    "try:\n",
    "    collab_rec = CollaborativeRecommender()\n",
    "    data = collab_rec.prepare_data(df)\n",
    "    predictions = collab_rec.train(data)\n",
    "    \n",
    "    # Get recommendations for a sample user\n",
    "    sample_user = df['user_id'].iloc[0]\n",
    "    recommendations = collab_rec.recommend_songs(sample_user, df)\n",
    "    \n",
    "    print(f\"\\nRecommendations for user {sample_user}:\")\n",
    "    results = []\n",
    "    for pred in recommendations:\n",
    "        song_info = df[df['song_id'] == pred.iid].iloc[0]\n",
    "        results.append({\n",
    "            'Artist': song_info['artist_name'],\n",
    "            'Song': song_info['release'],\n",
    "            'Score': f\"{pred.est:.2f}\"\n",
    "        })\n",
    "    \n",
    "    display(pd.DataFrame(results).style.set_properties(**{'text-align': 'left'}))\n",
    "        \n",
    "except Exception as e:\n",
    "    print(f\"Error in collaborative recommendations: {str(e)}\")"
   ]
  },
  {
   "cell_type": "markdown",
   "metadata": {},
   "source": [
    "## 3. Content-Based Recommendations"
   ]
  },
  {
   "cell_type": "code",
   "execution_count": null,
   "metadata": {},
   "outputs": [],
   "source": [
    "try:\n",
    "    content_rec = ContentBasedRecommender()\n",
    "    content_rec.fit(df)\n",
    "    \n",
    "    # Get recommendations for a sample song\n",
    "    sample_song = df['song_id'].iloc[0]\n",
    "    song_info = df[df['song_id'] == sample_song].iloc[0]\n",
    "    \n",
    "    print(f\"\\nSimilar songs to {song_info['artist_name']} - {song_info['release']}:\")\n",
    "    similar_songs = content_rec.recommend(sample_song)\n",
    "    display(similar_songs[['artist_name', 'release']].style.set_properties(**{'text-align': 'left'}))\n",
    "    \n",
    "except Exception as e:\n",
    "    print(f\"Error in content-based recommendations: {str(e)}\")"
   ]
  }
 ],
 "metadata": {
  "kernelspec": {
   "display_name": "Python 3",
   "language": "python",
   "name": "python3"
  }
 }
}